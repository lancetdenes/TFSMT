{
 "cells": [
  {
   "cell_type": "code",
   "execution_count": 3,
   "metadata": {},
   "outputs": [],
   "source": [
    "import pandas as pd\n",
    "import matplotlib.pyplot as plt\n",
    "import trackpy as tp\n",
    "import os\n",
    "import seaborn as sns\n",
    "import numpy as np"
   ]
  },
  {
   "cell_type": "code",
   "execution_count": 1,
   "metadata": {},
   "outputs": [],
   "source": [
    "exp_path = '/Volumes/GoogleDrive/My Drive/postdoc/Raw_Data/20230119_runx2_tracking'\n",
    "tracks_path = os.path.join(exp_path, 'processed_tracks')\n",
    "tracks = [f for f in os.listdir(tracks_path) if '.csv' in f]"
   ]
  },
  {
   "cell_type": "code",
   "execution_count": 4,
   "metadata": {},
   "outputs": [
    {
     "name": "stdout",
     "output_type": "stream",
     "text": [
      "done\n"
     ]
    }
   ],
   "source": [
    "df_full = []\n",
    "for t in tracks:\n",
    "    df = pd.read_csv(os.path.join(tracks_path, t), )\n",
    "    df = df[df.compartment == 'nuc']\n",
    "    df = tp.filter_stubs(df, 3)\n",
    "    if '100mm' in t:\n",
    "        df['condition'] = 'sorb'\n",
    "    else:\n",
    "        df['condition'] = 'ctrl'\n",
    "    df_full.append(df)\n",
    "print('done')\n",
    "df = pd.concat(df_full)\n"
   ]
  },
  {
   "cell_type": "code",
   "execution_count": 39,
   "metadata": {},
   "outputs": [
    {
     "data": {
      "image/png": "[encoded data removed]",
      "text/plain": [
       "<Figure size 150x100 with 1 Axes>"
      ]
     },
     "metadata": {},
     "output_type": "display_data"
    }
   ],
   "source": [
    "import matplotlib as mpl\n",
    "mpl.rcParams['mathtext.fontset'] = 'custom'\n",
    "mpl.rcParams['mathtext.it'] = 'Arial:italic'\n",
    "mpl.rcParams['mathtext.rm'] = 'Arial'\n",
    "mpl.rcParams['font.size'] = 6\n",
    "mpl.rcParams['font.family'] = 'sans-serif'\n",
    "mpl.rcParams['font.sans-serif'] = 'Arial'\n",
    "mpl.rcParams['font.size'] = 6\n",
    "\n",
    "pixel_size = .223232\n",
    "sorb7 = df.loc[df.condition == 'sorb']['R_SF'].dropna()*pixel_size\n",
    "ctrl7 = df.loc[df.condition == 'ctrl']['R_SF'].dropna()*pixel_size\n",
    "sorb = df.loc[df.condition == 'sorb']['R_SF_3'].dropna()*pixel_size\n",
    "ctrl = df.loc[df.condition == 'ctrl']['R_SF_3'].dropna()*pixel_size\n",
    "\n",
    "fig,ax = plt.subplots(figsize=(1.5,1))\n",
    "\n",
    "def plot_cumsum(entry_list, axis, color, ls='-'):  \n",
    "    count, bins_count = np.histogram(entry_list, bins=np.linspace(0,1,100))#entry_list.max(),500))\n",
    "    pdf = count / sum(count)\n",
    "    cdf = np.cumsum(pdf)\n",
    "    axis.plot(bins_count[1:], cdf, lw=.75, color=color,ls=ls)\n",
    "\n",
    "plot_cumsum(sorb, ax, '#cb416b')\n",
    "plot_cumsum(ctrl, ax, '#929591')\n",
    "plot_cumsum(sorb7, ax, '#cb416b', ls='--')\n",
    "plot_cumsum(ctrl7, ax, '#929591',ls='--')\n",
    "\n",
    "\n",
    "ax.set_ylim([0,1])\n",
    "ax.set_xlim([0,1])\n",
    "ax.set_xlabel(r'disp. $_{7ms}$ (µm)')\n",
    "ax.set_ylabel('cdf')\n",
    "sns.despine()\n",
    "fig.tight_layout()\n",
    "plt.savefig('/Volumes/GoogleDrive/My Drive/postdoc/proposals/2023_JCC/TF_SPT_CDF-both.pdf')"
   ]
  },
  {
   "cell_type": "code",
   "execution_count": null,
   "metadata": {},
   "outputs": [],
   "source": [
    "print(full_df)"
   ]
  }
 ],
 "metadata": {
  "kernelspec": {
   "display_name": "cpnap-env",
   "language": "python",
   "name": "python3"
  },
  "language_info": {
   "codemirror_mode": {
    "name": "ipython",
    "version": 3
   },
   "file_extension": ".py",
   "mimetype": "text/x-python",
   "name": "python",
   "nbconvert_exporter": "python",
   "pygments_lexer": "ipython3",
   "version": "3.9.15 (main, Nov 24 2022, 08:28:41) \n[Clang 14.0.6 ]"
  },
  "orig_nbformat": 4,
  "vscode": {
   "interpreter": {
    "hash": "88092b6811bd66fc8084986d01bedcc671c705c4f508573d437caaad5f6af101"
   }
  }
 },
 "nbformat": 4,
 "nbformat_minor": 2
}
