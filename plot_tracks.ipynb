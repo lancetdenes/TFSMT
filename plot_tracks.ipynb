{
 "cells": [
  {
   "cell_type": "code",
   "execution_count": 5,
   "metadata": {},
   "outputs": [],
   "source": [
    "import napari \n",
    "import skimage as sk\n",
    "import pandas as pd\n",
    "import os\n",
    "import trackpy as tp"
   ]
  },
  {
   "cell_type": "code",
   "execution_count": 6,
   "metadata": {},
   "outputs": [],
   "source": [
    "basedir = '/Volumes/GoogleDrive/My Drive/postdoc/Raw_Data/20230119_runx2_tracking'\n",
    "sptdir = os.path.join(basedir, 'spt_stacks')\n",
    "flist = [f for f in os.listdir(sptdir) if '.tif' in f]\n",
    "trackspath = os.path.join(basedir, 'processed_tracks')"
   ]
  },
  {
   "cell_type": "code",
   "execution_count": 8,
   "metadata": {},
   "outputs": [],
   "source": [
    "f = flist[3]\n",
    "tracksfile = os.path.join(trackspath, f.split('.tif')[0]+'.csv')\n",
    "sptfile = os.path.join(sptdir, f)\n",
    "sptim = sk.io.imread(sptfile)\n",
    "t=pd.read_csv(tracksfile)\n",
    "t1 = tp.filter_stubs(t, 3)\n",
    "tracks = t1.fillna(0.)\n",
    "for_nap = tracks[['particle', 'frame', 'y', 'x']]\n",
    "for_nap.columns = ['track_id', 'time', 'y', 'x']\n",
    "viewer = napari.view_image(sptim)\n",
    "viewer.add_tracks(for_nap)\n",
    "napari.run()"
   ]
  }
 ],
 "metadata": {
  "kernelspec": {
   "display_name": "cpnap-env",
   "language": "python",
   "name": "python3"
  },
  "language_info": {
   "codemirror_mode": {
    "name": "ipython",
    "version": 3
   },
   "file_extension": ".py",
   "mimetype": "text/x-python",
   "name": "python",
   "nbconvert_exporter": "python",
   "pygments_lexer": "ipython3",
   "version": "3.9.15"
  },
  "orig_nbformat": 4,
  "vscode": {
   "interpreter": {
    "hash": "88092b6811bd66fc8084986d01bedcc671c705c4f508573d437caaad5f6af101"
   }
  }
 },
 "nbformat": 4,
 "nbformat_minor": 2
}
